{
 "cells": [
  {
   "cell_type": "markdown",
   "metadata": {},
   "source": [
    "Drawing the magnetic lense for superfish input. "
   ]
  },
  {
   "cell_type": "code",
   "execution_count": 124,
   "metadata": {},
   "outputs": [],
   "source": [
    "import matplotlib\n",
    "matplotlib.rcParams['mathtext.fontset'] = 'stix' #For latex formatting\n",
    "matplotlib.rcParams['font.family'] = 'STIXGeneral' #For latex formatting\n",
    "import numpy as np\n",
    "import math\n",
    "import matplotlib.pyplot as plt\n",
    "import pandas as pd\n",
    "import statistics as sta\n",
    "import seaborn as sns\n",
    "import os\n",
    "import shutil\n",
    "from re import search\n",
    "import skgeom as sg\n",
    "from skgeom.draw import draw"
   ]
  },
  {
   "cell_type": "code",
   "execution_count": 125,
   "metadata": {},
   "outputs": [],
   "source": [
    "#dir_new = r'C:\\Users\\kayanatm\\Desktop\\Astra Python simulations'\n",
    "#folder_name = 'Magneic_lenses' #newr folder name\n",
    "#os.mkdir(folder_name)\n",
    "path = r'C:\\Users\\kayanatm\\Desktop\\Astra Python simulations\\Python wrappers and reference files'\n",
    "#path = os.path.join(path,folder_name)"
   ]
  },
  {
   "cell_type": "markdown",
   "metadata": {},
   "source": [
    "The geoetry will be defined here, every measurement is in cm"
   ]
  },
  {
   "cell_type": "code",
   "execution_count": 126,
   "metadata": {},
   "outputs": [
    {
     "data": {
      "image/png": "[encoded data removed]",
      "text/plain": [
       "<Figure size 432x432 with 1 Axes>"
      ]
     },
     "metadata": {
      "needs_background": "light"
     },
     "output_type": "display_data"
    }
   ],
   "source": [
    "outer_points = [[0.2,2.0], [4.5,2.0],[4.5,-2.0], [0.2,-2.0],[0.2,-0.75],[0.3,-0.5], [0.7,-0.5],[0.8,-0.75], [0.8,-1.5] ,[3.7,-1.5], [3.7,1.5], [0.8,1.5],[0.8,0.75], [0.7,0.5],[0.3,0.5],[0.2,0.75]]\n",
    "inner_points = [[0.8,1.5],[3.7,1.5],[3.7,-1.5],[0.8,-1.5]]\n",
    "grid_for_poisson = [[0,2.5],[5,2.5],[5,-2.5],[0,-2.5]]\n",
    "\n",
    "outer = sg.Polygon(outer_points)\n",
    "inner = sg.Polygon(inner_points)\n",
    "grid = sg.Polygon(grid_for_poisson)\n",
    "\n",
    "plt.figure(figsize=(6,6))\n",
    "draw(grid, facecolor = 'gainsboro')\n",
    "draw(inner,facecolor = 'brown')\n",
    "draw(outer,facecolor = 'grey')\n",
    "plt.xlabel('x (cm)');\n",
    "plt.ylabel('z (cm)');"
   ]
  },
  {
   "cell_type": "code",
   "execution_count": 127,
   "metadata": {},
   "outputs": [
    {
     "name": "stdout",
     "output_type": "stream",
     "text": [
      "Permanent-Magnet Solenoid (for PANDIRA)\n",
      "Originally appeared in 1987 Reference Manual B.12.3\n",
      "\n",
      "; Copyright 1987,by the University of California.\n",
      "; Unauthorized commercial use is prohibited.\n",
      "\n",
      "&reg kprob = 0,\n",
      " icylin    = 1,\n",
      " mode      = 0,\n",
      " dx        = 0.010, dy = 0.010,\n",
      " ! xjfact    = 0,\n",
      " ! nbslf     = 1,\n",
      " nbslo     = 0,\n",
      " ktop      = 1, lmin =1, ltop = 40 &\n",
      " \n",
      "\n"
     ]
    }
   ],
   "source": [
    "header = \"Permanent-Magnet Solenoid (for PANDIRA)\\nOriginally appeared in 1987 Reference Manual B.12.3\\n\\n; Copyright 1987,\\\n",
    "by the University of California.\\n; Unauthorized commercial use is prohibited.\\n\\\n",
    "\\n\\\n",
    "&reg kprob = 0,\\n\\\n",
    " icylin    = 1,\\n\\\n",
    " mode      = 0,\\n\\\n",
    " dx        = 0.010, dy = 0.010,\\n\\\n",
    " ! xjfact    = 0,\\n\\\n",
    " ! nbslf     = 1,\\n\\\n",
    " nbslo     = 0,\\n\\\n",
    " ktop      = 1, lmin =1, ltop = 40 &\\n\\\n",
    " \\n\"\n",
    "print(header)"
   ]
  },
  {
   "cell_type": "code",
   "execution_count": 128,
   "metadata": {},
   "outputs": [
    {
     "name": "stdout",
     "output_type": "stream",
     "text": [
      "[[0, -2.5], [5, -2.5], [5, 2.5], [0, 2.5]]\n"
     ]
    }
   ],
   "source": [
    "text = \"&po x = {:.2f}, y = {:.2f} &\"+'\\n'\n",
    "grid_for_poisson.reverse()\n",
    "outer_points.reverse()\n",
    "inner_points.reverse()\n",
    "print(grid_for_poisson)"
   ]
  },
  {
   "cell_type": "code",
   "execution_count": 129,
   "metadata": {},
   "outputs": [
    {
     "name": "stdout",
     "output_type": "stream",
     "text": [
      "&po x = 0.00, y = -2.50 &\n",
      "\n",
      "&po x = 5.00, y = -2.50 &\n",
      "\n",
      "&po x = 5.00, y = 2.50 &\n",
      "\n",
      "&po x = 0.00, y = 2.50 &\n",
      "\n",
      "&po x = 0.00, y = -2.50 &\n",
      "\n"
     ]
    }
   ],
   "source": [
    "for x in grid_for_poisson:\n",
    "    print(text.format(x[0],x[1]))\n",
    "print(text.format(grid_for_poisson[0][0], grid_for_poisson[0][1]))"
   ]
  },
  {
   "cell_type": "code",
   "execution_count": 130,
   "metadata": {},
   "outputs": [],
   "source": [
    "Imax = 1.25 # [A] expected current, Guenther had 1.25 A\n",
    "windings= 1800  # windings of the coil\n",
    "current = windings*Imax; # 900 [A] "
   ]
  },
  {
   "cell_type": "markdown",
   "metadata": {},
   "source": [
    "Witing the input file for the superfish to claculate the fields"
   ]
  },
  {
   "cell_type": "code",
   "execution_count": 131,
   "metadata": {},
   "outputs": [],
   "source": [
    "magfile_name = os.path.join(path,'1cm_bore'+\".am\")\n",
    "magfile = open(magfile_name,\"w\")\n",
    "#Header\n",
    "magfile.write(header)\n",
    "#Grid\n",
    "for x in grid_for_poisson:\n",
    "    magfile.write(text.format(x[0],x[1]))\n",
    "magfile.write(text.format(grid_for_poisson[0][0], grid_for_poisson[0][1]))\n",
    "magfile.write('\\n'+'\\n')\n",
    "#Inner material\n",
    "text_mat_2 = \"&reg mat = 1, current = {:.2f} &\"\n",
    "magfile.write(text_mat_2.format(current)+'\\n')\n",
    "for x in inner_points:\n",
    "    magfile.write(text.format(x[0],x[1]))\n",
    "magfile.write(text.format(inner_points[0][0], inner_points[0][1]))\n",
    "magfile.write('\\n'+'\\n')\n",
    "#outer material\n",
    "magfile.write('&reg mat = 2 &'+'\\n')\n",
    "for x in outer_points:\n",
    "    magfile.write(text.format(x[0],x[1]))\n",
    "magfile.write(text.format(outer_points[0][0],outer_points[0][1]))\n",
    "\n",
    "magfile.close()\n",
    "#print(files_i)"
   ]
  },
  {
   "cell_type": "code",
   "execution_count": null,
   "metadata": {},
   "outputs": [],
   "source": []
  }
 ],
 "metadata": {
  "kernelspec": {
   "display_name": "Python 3",
   "language": "python",
   "name": "python3"
  },
  "language_info": {
   "codemirror_mode": {
    "name": "ipython",
    "version": 3
   },
   "file_extension": ".py",
   "mimetype": "text/x-python",
   "name": "python",
   "nbconvert_exporter": "python",
   "pygments_lexer": "ipython3",
   "version": "3.8.5"
  }
 },
 "nbformat": 4,
 "nbformat_minor": 4
}
