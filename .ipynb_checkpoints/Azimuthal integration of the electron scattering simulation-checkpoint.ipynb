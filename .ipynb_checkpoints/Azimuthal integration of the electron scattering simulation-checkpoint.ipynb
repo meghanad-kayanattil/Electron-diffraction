{
 "cells": [
  {
   "cell_type": "markdown",
   "metadata": {},
   "source": [
    "# Read before\n",
    "Install pyFAI library for azimuthal integration from https://pyfai.readthedocs.io/en/master/ and the documentation there in"
   ]
  },
  {
   "cell_type": "code",
   "execution_count": 1,
   "metadata": {},
   "outputs": [
    {
     "ename": "ModuleNotFoundError",
     "evalue": "No module named 'pyFAI'",
     "output_type": "error",
     "traceback": [
      "\u001b[1;31m---------------------------------------------------------------------------\u001b[0m",
      "\u001b[1;31mModuleNotFoundError\u001b[0m                       Traceback (most recent call last)",
      "\u001b[1;32m<ipython-input-1-f1725b3626a9>\u001b[0m in \u001b[0;36m<module>\u001b[1;34m\u001b[0m\n\u001b[1;32m----> 1\u001b[1;33m \u001b[1;32mfrom\u001b[0m \u001b[0mpyFAI\u001b[0m\u001b[1;33m.\u001b[0m\u001b[0mazimuthalIntegrator\u001b[0m \u001b[1;32mimport\u001b[0m \u001b[0mAzimuthalIntegrator\u001b[0m\u001b[1;33m\u001b[0m\u001b[1;33m\u001b[0m\u001b[0m\n\u001b[0m\u001b[0;32m      2\u001b[0m \u001b[1;32mimport\u001b[0m \u001b[0mmath\u001b[0m\u001b[1;33m\u001b[0m\u001b[1;33m\u001b[0m\u001b[0m\n",
      "\u001b[1;31mModuleNotFoundError\u001b[0m: No module named 'pyFAI'"
     ]
    }
   ],
   "source": [
    "from pyFAI.azimuthalIntegrator import AzimuthalIntegrator\n",
    "import math"
   ]
  },
  {
   "cell_type": "code",
   "execution_count": null,
   "metadata": {},
   "outputs": [],
   "source": [
    "#Defining experiment parameters\n",
    "KE = 50 #kinetic energy of electrons kev\n",
    "planck_c = 4.135667516e-15 #planck constant\n",
    "m0 = 9.10938215e-31 #rest mass of electron\n",
    "speed_light = 299792458 #Speed of light\n",
    "lambda_e = (planck_c*speed_light/(math.sqrt(KE*1000*(KE*1000+2*m0*speed_light**2*6.241506363e+18)))); \n",
    "print(\"Electron beam wavelength = {} m\".format(lambda_e))\n",
    "\n",
    "#Defining the detector parameters this can be adapted from the experiment\n",
    "xcen = 391.55 #center of the diffraction\n",
    "ycen = 393.03 #center of the diffraction\n",
    "pixel_size = 4.8e-6 #size of the pixel\n",
    "shape_det = [900,900]\n",
    "distanceDet = 0.5 # in m \n",
    "wavel = lambda_e"
   ]
  },
  {
   "cell_type": "code",
   "execution_count": null,
   "metadata": {},
   "outputs": [],
   "source": [
    "#Defining the detector in pyFAI\n",
    "import pyFAI.detectors\n",
    "\n",
    "detector = pyFAI.detectors.Detector(pixel1=pixel_size, pixel2=pixel_size,max_shape=(900,900))\n",
    "ai = AzimuthalIntegrator(dist=distanceDet, detector=detector, wavelength=wavel)\n",
    "ai.setFit2D(directDist=500,centerX=xcen,centerY=ycen)\n",
    "\n",
    "print(ai)"
   ]
  },
  {
   "cell_type": "code",
   "execution_count": null,
   "metadata": {},
   "outputs": [],
   "source": [
    "import cv2\n",
    "import os\n",
    "import matplotlib.pyplot as plt\n",
    "file_path_kirk = os.path.join(os.getcwd(),'diffraction_modified_scattering_glycerol_isolated.png')\n",
    "file_path_loba = os.path.join(os.getcwd(),'diffraction_modified_scattering_glycerol_isolated_lobato.png')\n",
    "print(file_path)\n",
    "image_kirk = cv2.imread(file_path_kirk,0)\n",
    "image_loba = cv2.imread(file_path_loba,0)\n",
    "plt.subplot(1,2,1)\n",
    "plt.imshow(image_kirk)\n",
    "plt.scatter(xcen, ycen, color = 'red')\n",
    "plt.axis('off')\n",
    "plt.subplot(1,2,2)\n",
    "plt.imshow(image_loba)\n",
    "plt.scatter(xcen, ycen, color = 'red')\n",
    "plt.axis('off')"
   ]
  },
  {
   "cell_type": "code",
   "execution_count": null,
   "metadata": {},
   "outputs": [],
   "source": [
    "#azimuthal integration using the intergate1d method\n",
    "#the default radial unit is “q_nm^1”, so the scattering vector length expressed in inverse nanometers. \n",
    "#To be able to calculate q, one needs to specify the wavelength used\n",
    "res = ai.integrate1d(image_kirk, 800)\n",
    "\n",
    "#The ds in stuart's code is calculated as ds = (2*np.pi*pixelSize*radialDist[0])/(wavel*distanceDet)\n",
    "#here I believe that is done by 2*pi*pixel_size/(wavel/distanceDet)\n",
    "sx_kirk = res[0] \n",
    "Itot_kirk = res[1]\n",
    "\n",
    "res_loba = ai.integrate1d(image_loba, 800)\n",
    "sx_loba = res_loba[0]\n",
    "Itot_loba = res_loba[1]\n",
    "\n",
    "print(\"Minimum s value = {}\".format(sx.min()))\n",
    "print(\"Maximum s value = {}\".format(sx.max()))\n",
    "\n",
    "#Display the integration result\n",
    "\n",
    "plt.subplot(1,2,1)\n",
    "plt.plot(sx_kirk,Itot_kirk, color = 'black')\n",
    "plt.xlabel('S($A^{-1}$)')\n",
    "plt.ylabel('Itot (Arb-units)')\n",
    "plt.subplot(1,2,2)\n",
    "plt.plot(sx_loba,Itot_loba, color = 'black')\n",
    "plt.xlabel('S($A^{-1}$)')\n",
    "plt.ylabel('Itot (Arb-units)')"
   ]
  },
  {
   "cell_type": "code",
   "execution_count": null,
   "metadata": {},
   "outputs": [],
   "source": [
    "plt.plot(sx_kirk,Itot_kirk, color = 'black', ls = '--')\n",
    "plt.plot(sx_loba,Itot_loba, color = 'red')\n",
    "plt.xlabel('S($A^{-1}$)')\n",
    "plt.ylabel('Itot (Arb-units)')"
   ]
  },
  {
   "cell_type": "code",
   "execution_count": null,
   "metadata": {},
   "outputs": [],
   "source": [
    "head = 'S(A^-1)'+'\\t'+'Itot'\n",
    "text = '{}'+'\\t'+'{}'\n",
    "file = open('I(s)_vs_s.csv', 'w+')\n",
    "file.write(head)\n",
    "for s,I in zip(sx_kirk, Itot_kirk):\n",
    "    file.write(text.format(s,I))\n",
    "file.close()"
   ]
  },
  {
   "cell_type": "code",
   "execution_count": null,
   "metadata": {},
   "outputs": [],
   "source": [
    "s_cut = []\n",
    "I_cut = []\n",
    "for s,I in zip(sx_kirk,Itot_kirk):\n",
    "    if s>=1.65 and s<=8.7:\n",
    "        s_cut.append(s)\n",
    "        I_cut.append(I)\n",
    "    else:\n",
    "        continue\n",
    "#print(s_cut)\n",
    "#print(I_cut)\n",
    "plt.figure(figsize=(6,6))\n",
    "plt.plot(s_cut,I_cut, color = 'black')\n",
    "plt.xlabel('S($A^{-1}$)')\n",
    "plt.ylabel('Itot (Arb-units)')"
   ]
  },
  {
   "cell_type": "code",
   "execution_count": null,
   "metadata": {},
   "outputs": [],
   "source": [
    "#Background being subtracted after fitting the Itot to a cubic polynomial\n",
    "from scipy.optimize import curve_fit\n",
    "def fit_poly(x,a,b,c,d):\n",
    "    y = a*x**3+b*x**2+c*x+d\n",
    "    return y\n",
    "popt, pcov = curve_fit(fit_poly, s_cut, I_cut)\n",
    "print(popt)"
   ]
  },
  {
   "cell_type": "code",
   "execution_count": null,
   "metadata": {},
   "outputs": [],
   "source": [
    "import numpy as np\n",
    "y =[]\n",
    "for item in s_cut:\n",
    "    y.append(fit_poly(item,popt[0],popt[1],popt[2],popt[3]))\n",
    "    \n",
    "s_ms =  np.subtract(I_cut,y)\n",
    "\n",
    "plt.figure(figsize=(15,8))\n",
    "plt.subplot(1,2,1)\n",
    "plt.plot(s_cut,y,color = 'gray', ls = '--')\n",
    "plt.plot(s_cut,I_cut,color = 'black', lw =2)\n",
    "plt.legend(['Poly fit','Rad avg'])\n",
    "plt.ylabel('Itot (Arb units)')\n",
    "plt.xlabel('Scattering vector ($A^{-1}$)')\n",
    "plt.subplot(1,2,2)\n",
    "plt.plot(s_cut,s_ms, color = 'black')\n",
    "plt.ylabel('Itot - Ibg (Arb units)')\n",
    "plt.xlabel('Scattering vector ($A^{-1}$)')\n",
    "plt.xlim([1.4,9])"
   ]
  },
  {
   "cell_type": "code",
   "execution_count": null,
   "metadata": {},
   "outputs": [],
   "source": []
  }
 ],
 "metadata": {
  "kernelspec": {
   "display_name": "Python 3",
   "language": "python",
   "name": "python3"
  },
  "language_info": {
   "codemirror_mode": {
    "name": "ipython",
    "version": 3
   },
   "file_extension": ".py",
   "mimetype": "text/x-python",
   "name": "python",
   "nbconvert_exporter": "python",
   "pygments_lexer": "ipython3",
   "version": "3.8.5"
  }
 },
 "nbformat": 4,
 "nbformat_minor": 4
}
