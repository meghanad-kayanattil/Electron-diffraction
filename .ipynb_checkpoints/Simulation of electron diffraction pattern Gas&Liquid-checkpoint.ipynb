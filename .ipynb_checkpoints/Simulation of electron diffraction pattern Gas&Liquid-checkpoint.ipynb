{
 "cells": [
  {
   "cell_type": "markdown",
   "metadata": {},
   "source": [
    "# Gas phase electron diffraction simulation"
   ]
  },
  {
   "cell_type": "markdown",
   "metadata": {},
   "source": [
    "This notebook describes the way to simulate a gas phase electron diffraction pattern given that we have the atomic cordinates of a molecule. First step is to do the simulation of the radial distribution function from the known molecular geometry inorder to compare it with the experimentally derived ones.\n",
    "\n",
    "The notebook is only optimized for the compound Glycerol, changes can be made easily for other molecules by changing a few cells. "
   ]
  },
  {
   "cell_type": "markdown",
   "metadata": {},
   "source": [
    "Requirements for a functional code:\n",
    "1. Geometry file for the intended molecule\n",
    "2. Kirkland.txt file (included in the repository)\n",
    "3. Parameters for the detector/experiment"
   ]
  },
  {
   "cell_type": "code",
   "execution_count": 1,
   "metadata": {},
   "outputs": [
    {
     "name": "stdout",
     "output_type": "stream",
     "text": [
      "Number of processors:  8\n"
     ]
    }
   ],
   "source": [
    "import pandas as pd\n",
    "import numpy as np\n",
    "import os \n",
    "import cv2\n",
    "import matplotlib.pyplot as plt\n",
    "import math\n",
    "import multiprocessing as mp\n",
    "print(\"Number of processors: \", mp.cpu_count())"
   ]
  },
  {
   "cell_type": "code",
   "execution_count": 2,
   "metadata": {},
   "outputs": [],
   "source": [
    "### Plotting - Settings\n",
    "plt.rcParams['font.family'] = 'sans-serif'\n",
    "plt.rcParams['font.size'] = 18\n",
    "plt.rcParams['axes.labelsize'] = 18\n",
    "plt.rcParams['axes.labelweight'] = 'bold'\n",
    "plt.rcParams['xtick.labelsize'] = 18\n",
    "plt.rcParams['ytick.labelsize'] = 18\n",
    "plt.rcParams['legend.fontsize'] = 18\n",
    "plt.rcParams['figure.titlesize'] = 18\n",
    "plt.rcParams['figure.titleweight'] = 'bold'\n",
    "plt.rcParams['xtick.top'] = True\n",
    "plt.rcParams['ytick.right'] = True"
   ]
  },
  {
   "cell_type": "markdown",
   "metadata": {},
   "source": [
    "In order to calculate the theoretical scattering pattern from the molecule we need to compute \n",
    "\n",
    "$I_{atom}(s) = \\sum_{i=1}^{N} |f_{i}(s)|^2$\n",
    "\n",
    "as well as\n",
    "\n",
    "$I_{mol}(s) = \\sum_{i=1}^{N} \\sum_{j\\neq{i}}^{N} |f_{i}(s)||f_{j}(s)|\\cos(\\eta_i-\\eta_j)\\frac{\\sin(s*r_{ij})}{s*r_{ij}}$\n",
    "\n",
    "Where $f_{i}$ is the elastic scattering amplitude which can be computed in multiple ways here we follow the method used by:\n",
    "Earl J. Kirkland. Advanced Computingm in Electron Microscopy. Second Edition. Springer, 2010. \n",
    "\n",
    "If we know the experiment parameters, mainly, detector parameters and sample distance the possible electron diffraction parameter forming on the detector can be recreated\n",
    "\n",
    "$d = \\sqrt{(x-xcen)^2+(y-ycen)^2}*pixel size$ \n",
    "\n",
    "$\\theta = \\arctan(\\frac{d}{distance-to-the detector})$\n",
    "\n",
    "$s = \\frac{4\\pi}{\\lambda}Sin(\\theta/2)$\n",
    "\n",
    "$q = 2Sin(\\theta/2)/\\lambda$"
   ]
  },
  {
   "cell_type": "markdown",
   "metadata": {},
   "source": [
    "# Scattering factor calculation functions"
   ]
  },
  {
   "cell_type": "markdown",
   "metadata": {},
   "source": [
    "## Kirkland"
   ]
  },
  {
   "cell_type": "code",
   "execution_count": 3,
   "metadata": {},
   "outputs": [],
   "source": [
    "#Scattering factor being calculated for the element for a range of s values\n",
    "def f_x_kirk(s,zi, kirkland):\n",
    "    \"\"\"Scattering factor calculation kirkland method\n",
    "    \n",
    "    \n",
    "    \"\"\"\n",
    "    p = kirk_scat(zi, kirkland)\n",
    "    q = np.divide(s,math.pi*2)\n",
    "    \n",
    "    q_sq = np.multiply(q,q)\n",
    "    \n",
    "    f = np.divide(p['a1'],q_sq+p['b1'])+np.divide(p['a2'],q_sq+p['b2'])+np.divide(p['a3'],q_sq+p['b3'])\n",
    "    \n",
    "    f = f + p['c1']*np.exp(-p['d1']*q_sq) + p['c2']*np.exp(-p['d2']*q_sq) + p['c3']*np.exp(-p['d3']*q_sq)\n",
    "    \n",
    "    return f"
   ]
  },
  {
   "cell_type": "markdown",
   "metadata": {},
   "source": [
    "# Lobato"
   ]
  },
  {
   "cell_type": "code",
   "execution_count": 4,
   "metadata": {},
   "outputs": [],
   "source": [
    "def f_x_lobato(s,zi):\n",
    "    \"Scattering factor calculation Lobato method\"\n",
    "    \n",
    "    a,b = lobato_scat(zi)\n",
    "    \n",
    "    q = np.divide(s,math.pi*2)\n",
    "    \n",
    "    q_sq = np.multiply(q,q)\n",
    "    \n",
    "    f=0\n",
    "    for i in range(5):\n",
    "        f = f + (a[i]*(2+b[i]*q_sq))/(1+b[i]*q_sq)**2\n",
    "    \n",
    "    return f\n",
    "\n",
    "def scattering_int_lobato(xyz,dim,N_atoms,s):\n",
    "    \"\"\"\n",
    "    Calculates the scattering intensity\n",
    "    Input parameters: xyz = geometry data\n",
    "                      dim = detector size in pixels \n",
    "                      N_atoms = Number of atoms in the molecule\n",
    "                      s = scattering vector calculated in the main program body\n",
    "    output: Iat = Atomic scattering intensity\n",
    "            Imol = Molecular scattering intensity\n",
    "    \n",
    "    \"\"\"\n",
    "    IAt = np.zeros(dim)\n",
    "    Imol = np.zeros(dim)\n",
    "\n",
    "    pi = 0\n",
    "    Z = find_z(xyz)\n",
    " \n",
    "    for i in range(N_atoms):\n",
    "        for j in range(i+1):\n",
    "            zi = Z[i]\n",
    "            zj = Z[j]\n",
    "            #print('Zi = {}, Zj = {}'.format(zi,zj))\n",
    "            \n",
    "            #fi,fj are the elastic scattering amplitude of atoms\n",
    "            fi = f_x_lobato(s,zi)\n",
    "            fj = f_x_lobato(s,zj)\n",
    "            \n",
    "            if (i == j):\n",
    "                IAt = IAt + np.multiply(fi,fj)\n",
    "                #print('rij = 0')\n",
    "                \n",
    "            else:\n",
    "                #We can divide the Imol(s) into 3 parts, first the scatering factor\n",
    "                #second the cos (phase) factor and 3rd the sin factor\n",
    "                \n",
    "                #scat factor calculation\n",
    "                scat_fact = np.multiply(fi,fj)\n",
    "                \n",
    "                #sin factor calculation \n",
    "                r1 = xyz.iloc[i,1]-xyz.iloc[j,1]\n",
    "                r2 = xyz.iloc[i,2]-xyz.iloc[j,2]\n",
    "                r3 = xyz.iloc[i,3]-xyz.iloc[j,3]\n",
    "                r_squared = r1**2+r2**2+r3**2\n",
    "                rij = math.sqrt(r_squared);#print('rij = {}'.format(rij))\n",
    "                sin_fact = np.divide(np.sin(np.multiply(rij,s)),np.multiply(rij,s))            \n",
    "                \n",
    "                #cos_factor calculation \n",
    "                \n",
    "                #total\n",
    "                Imol = Imol + np.multiply(scat_fact,sin_fact)\n",
    "            pi=pi+1        \n",
    "            #print('Pairs = {}'.format(pi))\n",
    "    return IAt, Imol               "
   ]
  },
  {
   "cell_type": "code",
   "execution_count": 5,
   "metadata": {},
   "outputs": [],
   "source": [
    "def lobato_scat(zi):\n",
    "    \"\"\"The function takes in the atomic number and returns the scattering (Lobato) function constant values for \n",
    "        that specific atom\n",
    "        Input = Z (Atomic number)\n",
    "        Output = Scattering vector dictionary with constants (form factors\"\"\"\n",
    "    lobato = {'8':['O', [2.994740452423624e+01, -7.761012662552783e+01, 9.988177646231442e+01, -5.121270055056731e+01, 8.196189544460320e-03],[1.302839878800107e+00, 1.157941052583095e+00, 1.009885493380251e+00, 9.433279714332660e-01, 4.331976113218256e-02]],\n",
    "              '6':['C', [1.244660886213433e+02, -2.203528570789638e+02,1.952353522804791e+02,-9.810793612697997e+01,1.420230412136232e-02],[2.421208492560056e+00, 2.305379437524258e+00, 2.048519321065642e+00, 1.933525529175474e+00, 7.689768184783397e-02]],\n",
    "              '1':['H',[6.473848488352918e-03, -4.901925767802290e-01, 5.732841603908765e-01, -3.794033014839905e-01, 5.544264747740791e-01], [2.785198853791489e+00, 2.776204283306448e+00, 2.775385910506251e+00, 2.767593028672588e+00, 2.765118976429275e+00]],\n",
    "              '17':['Cl',[2.566248399800203e+00, -3.388763508285917e-01, 1.145845587555150e+00, -9.231093165470796e-01, 2.291680020410422e-03],[2.415949203656124e+00, 4.214142393102160e-01, 1.095924049758303e-01, 9.909554582267530e-02, 9.996659489275210e-03]]\n",
    "        \n",
    "    }\n",
    "    \n",
    "    \n",
    "    a_vals = lobato[str(zi)][1]\n",
    "    b_vals = lobato[str(zi)][2]\n",
    "    \n",
    "    return a_vals, b_vals\n",
    "    \n",
    "    "
   ]
  },
  {
   "cell_type": "markdown",
   "metadata": {},
   "source": [
    "## Other Sub functions"
   ]
  },
  {
   "cell_type": "code",
   "execution_count": 6,
   "metadata": {},
   "outputs": [],
   "source": [
    "kirkland_path = os.path.join(os.getcwd(),'KirklandScattering.txt')\n",
    "kirkland_scat_fact = pd.read_csv(kirkland_path,sep ='\\s+', header=None)\n",
    "def kirk_scat(zi, kirkland):\n",
    "    \"\"\" The function takes in the atomic number and returns the scattering (Kirkland) function constant values for \n",
    "        that specific atom\n",
    "        Input = Z (Atomic number)\n",
    "        Output = Scattering vector dictionary with constants (form factors)\n",
    "    \"\"\"\n",
    "    ab_vals = ['a1','b1','a2','b2','a3','b3','c1','d1','c2','d2','c3','d3'] \n",
    "    s_fact = np.array(kirkland.iloc[zi-1])\n",
    "    s_fact = dict(zip(ab_vals,s_fact))\n",
    "    return s_fact\n",
    "#--------------------------------------------------------------------------------\n",
    "def find_z(xyz):\n",
    "    \"\"\" This functon retuns the atomic numbers of the elements in the molecule into a list\n",
    "        (Currently only functional for H,C and O)\n",
    "    \"\"\"\n",
    "    z = []\n",
    "    for i in range(len(xyz)):\n",
    "        if xyz.iloc[i,0] == 'H':\n",
    "            z.append(1)\n",
    "        elif xyz.iloc[i,0] == 'C':\n",
    "            z.append(6)\n",
    "        elif xyz.iloc[i,0] == 'O':\n",
    "            z.append(8)\n",
    "        elif xyz.iloc[i,0] == 'Cl':\n",
    "            z.append(17)\n",
    "    return z\n",
    "#--------------------------------------------------------------------------------\n",
    "def scattering_int(xyz,dim,N_atoms,s, kirkland):\n",
    "    \"\"\"\n",
    "    Calculates the scattering intensity\n",
    "    Input parameters: xyz = geometry data\n",
    "                      dim = detector size in pixels \n",
    "                      N_atoms = Number of atoms in the molecule\n",
    "                      s = scattering vector calculated in the main program body\n",
    "    output: Iat = Atomic scattering intensity\n",
    "            Imol = Molecular scattering intensity\n",
    "    \n",
    "    \"\"\"\n",
    "    IAt = np.zeros(dim)\n",
    "    Imol = np.zeros(dim)\n",
    "\n",
    "    pi = 0\n",
    "    Z = find_z(xyz)\n",
    " \n",
    "    for i in range(N_atoms):\n",
    "        zi = Z[i]\n",
    "        fi = f_x_kirk(s,zi, kirkland)\n",
    "        \n",
    "        for j in range(i+1):\n",
    "            \n",
    "            zj = Z[j]\n",
    "            #print('Zi = {}, Zj = {}'.format(zi,zj))\n",
    "            \n",
    "            #fi,fj are the elastic scattering amplitude of atoms\n",
    "            \n",
    "            fj = f_x_kirk(s,zj, kirkland)\n",
    "            \n",
    "            if (i == j):\n",
    "                IAt = IAt + np.multiply(fi,fj)\n",
    "                #print('rij = 0')\n",
    "                \n",
    "            else:\n",
    "                #We can divide the Imol(s) into 3 parts, first the scatering factor\n",
    "                #second the cos (phase) factor and 3rd the sin factor\n",
    "                \n",
    "                #scat factor calculation\n",
    "                scat_fact = np.multiply(fi,fj)\n",
    "                \n",
    "                #sin factor calculation \n",
    "                r1 = xyz.iloc[i,1]-xyz.iloc[j,1]\n",
    "                r2 = xyz.iloc[i,2]-xyz.iloc[j,2]\n",
    "                r3 = xyz.iloc[i,3]-xyz.iloc[j,3]\n",
    "                r_squared = r1**2+r2**2+r3**2\n",
    "                rij = math.sqrt(r_squared);#print('rij = {}'.format(rij))\n",
    "                sin_fact = np.divide(np.sin(np.multiply(rij,s)),np.multiply(rij,s))            \n",
    "                \n",
    "                #cos_factor calculation \n",
    "                \n",
    "                #total\n",
    "                Imol = Imol + np.multiply(scat_fact,sin_fact)\n",
    "            #pi=pi+1        \n",
    "            #print('Pairs = {}'.format(pi))\n",
    "    return IAt, Imol               "
   ]
  },
  {
   "cell_type": "markdown",
   "metadata": {},
   "source": [
    "## Constants"
   ]
  },
  {
   "cell_type": "code",
   "execution_count": 7,
   "metadata": {},
   "outputs": [
    {
     "name": "stdout",
     "output_type": "stream",
     "text": [
      "Electron beam wavelength = 5.3553082697833555e-12 m\n"
     ]
    }
   ],
   "source": [
    "import math\n",
    "KE = 50 #kinetic energy of electrons kev\n",
    "planck_c = 4.135667516e-15 #planck constant\n",
    "m0 = 9.10938215e-31 #rest mass of electron\n",
    "speed_light = 299792458 #Speed of light\n",
    "lambda_e = (planck_c*speed_light/(math.sqrt(KE*1000*(KE*1000+2*m0*speed_light**2*6.241506363e+18)))); \n",
    "print(\"Electron beam wavelength = {} m\".format(lambda_e))"
   ]
  },
  {
   "cell_type": "markdown",
   "metadata": {},
   "source": [
    "## Detector parameters "
   ]
  },
  {
   "cell_type": "code",
   "execution_count": 8,
   "metadata": {},
   "outputs": [
    {
     "name": "stdout",
     "output_type": "stream",
     "text": [
      "Wave length of electrons = 5.3553082697833555e-12 m\n"
     ]
    }
   ],
   "source": [
    "#Defining the detector parameters this can be adapted from the experiment\n",
    "xcen = 391.55 #center of the diffraction\n",
    "ycen = 393.03 #center of the diffraction\n",
    "pixel_size_det = 4.8e-5#size of the pixel in m\n",
    "shape_det = [900,900]\n",
    "distanceDet = 0.5 # in m\n",
    "wavel = lambda_e\n",
    "print('Wave length of electrons = {} m'.format(wavel)) #for 50kv electrons"
   ]
  },
  {
   "cell_type": "markdown",
   "metadata": {},
   "source": [
    "## Creating a matrix with the respective s values"
   ]
  },
  {
   "cell_type": "code",
   "execution_count": 9,
   "metadata": {},
   "outputs": [
    {
     "name": "stdout",
     "output_type": "stream",
     "text": [
      "Minimum s value = 0.0050797472048832604\n",
      "Maximum s value = 8.056983773323804\n"
     ]
    }
   ],
   "source": [
    "sM = np.zeros(shape_det); sM.shape\n",
    "\n",
    "#centersM = [shape_det[0]/2 + 0.00001,shape_det[1]/2 + 0.00001] #center of the image shifted from the actual center to avoid dividing by zero\n",
    "#xcen = centersM[0]\n",
    "#ycen = centersM[1]\n",
    "\n",
    "x = np.arange(1,shape_det[0])\n",
    "y = np.arange(1,shape_det[1])\n",
    "[xx,yy] = np.meshgrid(x,y)\n",
    "\n",
    "#Calculates the distance of each px to the center of the image in meters and in s units.\n",
    "d = []\n",
    "\n",
    "for x,y in zip(xx,yy):\n",
    "    temp_holder = ((x-xcen)**2)+((y-ycen)**2)\n",
    "\n",
    "    d.append(np.sqrt(temp_holder)*pixel_size_det)\n",
    "\n",
    "theta = np.arctan(np.divide(d,distanceDet))\n",
    "\n",
    "four_pi_lam  = (4*math.pi)/wavel             \n",
    "\n",
    "s = np.multiply(np.sin(np.divide(theta,2)),four_pi_lam)*1e-10\n",
    "\n",
    "print(\"Minimum s value = {}\".format(s.min()))\n",
    "print(\"Maximum s value = {}\".format(s.max()))"
   ]
  },
  {
   "cell_type": "markdown",
   "metadata": {},
   "source": [
    "# Simulation for CCl4 to bench mark the code"
   ]
  },
  {
   "cell_type": "code",
   "execution_count": 10,
   "metadata": {},
   "outputs": [
    {
     "name": "stdout",
     "output_type": "stream",
     "text": [
      "  Atoms       x       y       z\n",
      "0     C  0.0000  0.0000  0.0000\n",
      "1    Cl  1.0479  1.0479  1.0479\n",
      "2    Cl -1.0479 -1.0479  1.0479\n",
      "3    Cl -1.0479  1.0479 -1.0479\n",
      "4    Cl  1.0479 -1.0479 -1.0479\n",
      "Number of atoms in the molecule = 5\n",
      "Number of pairs of atomic connections in the molecule = 10\n"
     ]
    }
   ],
   "source": [
    "#reading the .xyz file for the corresponding molecule into a dataframe\n",
    "#file from https://cccbdb.nist.gov/\n",
    "#BLYP/aug-cc-pVDZ\n",
    "xyz_file_path = os.getcwd()\n",
    "xyz_file_name ='CCl4.xyz'\n",
    "xyz_ccl4 = pd.read_csv(os.path.join(xyz_file_path,xyz_file_name), sep = '\\s+', dtype='str',names = ['Atoms', 'x', 'y', 'z'])\n",
    "xyz_ccl4.iloc[0,0]\n",
    "xyz_ccl4[[\"x\", \"y\", \"z\"]] = xyz_ccl4[[\"x\", \"y\", \"z\"]].apply(pd.to_numeric)\n",
    "print(xyz_ccl4)\n",
    "find_z(xyz_ccl4)\n",
    "N_atoms = len(xyz_ccl4); print('Number of atoms in the molecule = {}'.format(N_atoms))\n",
    "pairs = int(N_atoms*(N_atoms-1)/2); print('Number of pairs of atomic connections in the molecule = {}'.format(pairs)); "
   ]
  },
  {
   "cell_type": "code",
   "execution_count": 11,
   "metadata": {},
   "outputs": [
    {
     "name": "stdout",
     "output_type": "stream",
     "text": [
      "Wall time: 1.35 s\n"
     ]
    }
   ],
   "source": [
    "%%time\n",
    "I_atom_ccl4, I_mol_ccl4 = scattering_int(xyz_ccl4, dim = [899,899], s=s,N_atoms=len(xyz_ccl4), kirkland = kirkland_scat_fact);\n",
    "\n",
    "I_tot_ccl4 = I_atom_ccl4+I_mol_ccl4\n",
    "\n",
    "sMs_ccl4 = np.multiply(np.divide(I_tot_ccl4,I_atom_ccl4),s)"
   ]
  },
  {
   "cell_type": "code",
   "execution_count": 12,
   "metadata": {},
   "outputs": [
    {
     "data": {
      "text/plain": [
       "<matplotlib.colorbar.Colorbar at 0x1f92d02d310>"
      ]
     },
     "execution_count": 12,
     "metadata": {},
     "output_type": "execute_result"
    },
    {
     "data": {
      "image/png": "[encoded data removed]",
      "text/plain": [
       "<Figure size 720x432 with 4 Axes>"
      ]
     },
     "metadata": {
      "needs_background": "light"
     },
     "output_type": "display_data"
    }
   ],
   "source": [
    "plt.figure(figsize=(10,6))\n",
    "plt.subplot(1,2,1)\n",
    "plt.imshow(I_tot_ccl4, cmap = 'RdBu_r', vmin=-100, vmax=250)\n",
    "plt.title('Itot CCl4')\n",
    "plt.colorbar()\n",
    "plt.subplot(1,2,2)\n",
    "plt.imshow(sMs_ccl4, cmap = 'RdBu_r')\n",
    "plt.title('sM(s) CCl4')\n",
    "plt.colorbar()\n",
    "\n",
    "#plt.imsave(fname='Itot_ccl4_simulated_kirk.png', arr=I_tot_ccl4, cmap='RdBu_r', format='png',vmin=-100, vmax=250)\n",
    "#plt.imsave(fname='Iatom_ccl4_simulated_kirk.png', arr=I_atom_ccl4, cmap='RdBu_r', format='png',vmin=-100, vmax=250)\n",
    "#plt.imsave(fname='Imol_ccl4_simulated_kirk.png', arr=I_mol_ccl4, cmap='RdBu_r', format='png',vmin=-100, vmax=250)"
   ]
  },
  {
   "cell_type": "code",
   "execution_count": 13,
   "metadata": {},
   "outputs": [
    {
     "data": {
      "image/png": "[encoded data removed]",
      "text/plain": [
       "<Figure size 432x288 with 2 Axes>"
      ]
     },
     "metadata": {
      "needs_background": "light"
     },
     "output_type": "display_data"
    }
   ],
   "source": [
    "plt.imshow(I_tot_ccl4, cmap = 'RdBu_r', vmin=-100, vmax=200)\n",
    "plt.colorbar()\n",
    "plt.savefig('Itot_ccl4_simulated_kirk.png', bbox_inches = 'tight')"
   ]
  },
  {
   "cell_type": "code",
   "execution_count": 14,
   "metadata": {},
   "outputs": [
    {
     "ename": "ModuleNotFoundError",
     "evalue": "No module named 'pyFAI'",
     "output_type": "error",
     "traceback": [
      "\u001b[1;31m---------------------------------------------------------------------------\u001b[0m",
      "\u001b[1;31mModuleNotFoundError\u001b[0m                       Traceback (most recent call last)",
      "\u001b[1;32m<ipython-input-14-71069edc6b7b>\u001b[0m in \u001b[0;36m<module>\u001b[1;34m\u001b[0m\n\u001b[1;32m----> 1\u001b[1;33m \u001b[1;32mfrom\u001b[0m \u001b[0mdiffraction_subfunctions\u001b[0m \u001b[1;32mimport\u001b[0m \u001b[0mdiffraction_to_azimuthal_avg\u001b[0m\u001b[1;33m\u001b[0m\u001b[1;33m\u001b[0m\u001b[0m\n\u001b[0m\u001b[0;32m      2\u001b[0m \u001b[1;33m\u001b[0m\u001b[0m\n\u001b[0;32m      3\u001b[0m \u001b[0ms_ccl4\u001b[0m\u001b[1;33m,\u001b[0m\u001b[0mI_mol_ccl4_1d\u001b[0m \u001b[1;33m=\u001b[0m \u001b[0mdiffraction_to_azimuthal_avg\u001b[0m\u001b[1;33m(\u001b[0m\u001b[0mI_mol_ccl4\u001b[0m\u001b[1;33m)\u001b[0m\u001b[1;33m\u001b[0m\u001b[1;33m\u001b[0m\u001b[0m\n\u001b[0;32m      4\u001b[0m \u001b[0m_\u001b[0m\u001b[1;33m,\u001b[0m\u001b[0mI_bg_ccl4_1d\u001b[0m \u001b[1;33m=\u001b[0m \u001b[0mdiffraction_to_azimuthal_avg\u001b[0m\u001b[1;33m(\u001b[0m\u001b[0mI_atom_ccl4\u001b[0m\u001b[1;33m)\u001b[0m\u001b[1;33m\u001b[0m\u001b[1;33m\u001b[0m\u001b[0m\n\u001b[0;32m      5\u001b[0m \u001b[1;33m\u001b[0m\u001b[0m\n",
      "\u001b[1;32mH:\\My Documents\\GitHub\\Electron-diffraction\\diffraction_subfunctions.py\u001b[0m in \u001b[0;36m<module>\u001b[1;34m\u001b[0m\n\u001b[0;32m      8\u001b[0m \u001b[1;32mimport\u001b[0m \u001b[0mmath\u001b[0m\u001b[1;33m\u001b[0m\u001b[1;33m\u001b[0m\u001b[0m\n\u001b[0;32m      9\u001b[0m \u001b[1;32mimport\u001b[0m \u001b[0mnumpy\u001b[0m \u001b[1;32mas\u001b[0m \u001b[0mnp\u001b[0m\u001b[1;33m\u001b[0m\u001b[1;33m\u001b[0m\u001b[0m\n\u001b[1;32m---> 10\u001b[1;33m \u001b[1;32mimport\u001b[0m \u001b[0mpyFAI\u001b[0m\u001b[1;33m.\u001b[0m\u001b[0mdetectors\u001b[0m\u001b[1;33m\u001b[0m\u001b[1;33m\u001b[0m\u001b[0m\n\u001b[0m\u001b[0;32m     11\u001b[0m \u001b[1;32mfrom\u001b[0m \u001b[0mpyFAI\u001b[0m\u001b[1;33m.\u001b[0m\u001b[0mazimuthalIntegrator\u001b[0m \u001b[1;32mimport\u001b[0m \u001b[0mAzimuthalIntegrator\u001b[0m\u001b[1;33m\u001b[0m\u001b[1;33m\u001b[0m\u001b[0m\n\u001b[0;32m     12\u001b[0m \u001b[1;32mfrom\u001b[0m \u001b[0msklearn\u001b[0m \u001b[1;32mimport\u001b[0m \u001b[0mmetrics\u001b[0m\u001b[1;33m\u001b[0m\u001b[1;33m\u001b[0m\u001b[0m\n",
      "\u001b[1;31mModuleNotFoundError\u001b[0m: No module named 'pyFAI'"
     ]
    }
   ],
   "source": [
    "from diffraction_subfunctions import diffraction_to_azimuthal_avg\n",
    "\n",
    "s_ccl4,I_mol_ccl4_1d = diffraction_to_azimuthal_avg(I_mol_ccl4)\n",
    "_,I_bg_ccl4_1d = diffraction_to_azimuthal_avg(I_atom_ccl4)\n",
    "\n",
    "sMs_Itot_Ibg_ccl4 = np.multiply(s_ccl4, np.divide(I_mol_ccl4_1d, I_bg_ccl4_1d))\n",
    "\n",
    "plt.plot(s_ccl4, I_bg_ccl4_1d, label = '$I_{atom}(s)$', color = 'brown')\n",
    "plt.plot(s_ccl4, I_mol_ccl4_1d, label = '$I_{mol}(s)$', color = 'navy')\n",
    "plt.xlabel('s ($A^{\\circ-1}$)')\n",
    "plt.ylabel('I(s)')\n",
    "plt.legend(fontsize = 'xx-small', loc=1)\n",
    "plt.savefig('Iatom_and_Imol_ccl4.png', bbox_inches = 'tight')"
   ]
  },
  {
   "cell_type": "code",
   "execution_count": null,
   "metadata": {},
   "outputs": [],
   "source": [
    "plt.plot(s_ccl4, sMs_Itot_Ibg_ccl4, color = 'navy')\n",
    "plt.xlabel('s ($A^{\\circ-1}$)')\n",
    "plt.ylabel('sM(s)')\n",
    "plt.savefig('sM(s)_ccl4.png', bbox_inches = 'tight')"
   ]
  },
  {
   "cell_type": "code",
   "execution_count": null,
   "metadata": {},
   "outputs": [],
   "source": [
    "from diffraction_subfunctions import sms_to_mrdf\n",
    "\n",
    "r_ccl4, mrdf_ccl4_v2 = sms_to_mrdf(s_ccl4, sMs_Itot_Ibg_ccl4)\n",
    "\n",
    "plt.plot(r_ccl4,mrdf_ccl4_v2,color = 'navy')\n",
    "plt.axvline(1.8149, ls = '--', color = 'brown', label = '$r_{C-Cl}=1.8149 A^{\\circ}$')\n",
    "plt.axvline(2.9638, ls = '--', color = 'brown', label = '$r_{Cl-Cl}=2.9638 A^{\\circ}$')\n",
    "plt.xlabel('r ($A^{\\circ}$)')\n",
    "plt.ylabel('g(r)')\n",
    "plt.legend(fontsize = 'xx-small', loc=1)\n",
    "plt.savefig('epdf_ccl4.png', bbox_inches = 'tight')"
   ]
  },
  {
   "cell_type": "markdown",
   "metadata": {},
   "source": [
    "# Simulation for CO2 to further bench mark the code"
   ]
  },
  {
   "cell_type": "code",
   "execution_count": null,
   "metadata": {},
   "outputs": [],
   "source": [
    "#file from https://cccbdb.nist.gov/\n",
    "#B3LYP/aug-cc-pVDZ\n",
    "xyz_file_name ='co2.xyz'\n",
    "xyz_co2 = pd.read_csv(os.path.join(xyz_file_path,xyz_file_name), sep = '\\s+', dtype='str',names = ['Atoms', 'x', 'y', 'z'])\n",
    "xyz_co2.iloc[0,0]\n",
    "xyz_co2[[\"x\", \"y\", \"z\"]] = xyz_co2[[\"x\", \"y\", \"z\"]].apply(pd.to_numeric)\n",
    "print(xyz_co2)\n",
    "find_z(xyz_co2)\n",
    "N_atoms = len(xyz_co2); print('Number of atoms in the molecule = {}'.format(N_atoms))\n",
    "pairs = int(N_atoms*(N_atoms-1)/2); print('Number of pairs of atomic connections in the molecule = {}'.format(pairs));"
   ]
  },
  {
   "cell_type": "code",
   "execution_count": null,
   "metadata": {},
   "outputs": [],
   "source": [
    "%%time\n",
    "I_atom_co2, I_mol_co2 = scattering_int(xyz_co2, dim = [899,899], s=s,N_atoms=len(xyz_co2), kirkland=kirkland_scat_fact);\n",
    "\n",
    "I_tot_co2 = I_atom_co2+I_mol_co2\n",
    "\n",
    "sMs_co2 = np.multiply(np.divide(I_tot_co2,I_atom_co2),s)"
   ]
  },
  {
   "cell_type": "code",
   "execution_count": null,
   "metadata": {},
   "outputs": [],
   "source": [
    "plt.figure(figsize=(10,6))\n",
    "plt.subplot(1,2,1)\n",
    "plt.imshow(I_tot_co2, cmap = 'RdBu_r', vmin = -10, vmax = 25)\n",
    "plt.title('Itot co2')\n",
    "plt.colorbar()\n",
    "plt.subplot(1,2,2)\n",
    "plt.imshow(sMs_co2, cmap = 'RdBu_r')\n",
    "plt.title('sM(s) co2')\n",
    "plt.colorbar()\n",
    "\n",
    "plt.imsave(fname='Itot_co2_simulated_kirk.png', arr=I_tot_co2, cmap='RdBu_r', format='png',vmin=-10, vmax=25)\n",
    "plt.imsave(fname='Iatom_co2_simulated_kirk.png', arr=I_atom_co2, cmap='RdBu_r', format='png',vmin=-10, vmax=25)\n",
    "plt.imsave(fname='Imol_co2_simulated_kirk.png', arr=I_mol_co2, cmap='RdBu_r', format='png',vmin=-10, vmax=25)"
   ]
  },
  {
   "cell_type": "code",
   "execution_count": null,
   "metadata": {},
   "outputs": [],
   "source": [
    "s_co2,I_mol_co2_1d = diffraction_to_azimuthal_avg(I_mol_co2)\n",
    "_,I_bg_co2_1d = diffraction_to_azimuthal_avg(I_atom_co2)\n",
    "\n",
    "sMs_Itot_Ibg_co2 = np.multiply(s_co2, np.divide(I_mol_co2_1d, I_bg_co2_1d))\n",
    "\n",
    "plt.subplot(1,2,1)\n",
    "plt.plot(s_co2, I_bg_co2_1d)\n",
    "plt.plot(s_co2, I_mol_co2_1d)\n",
    "plt.subplot(1,2,2)\n",
    "plt.plot(s_co2, sMs_Itot_Ibg_co2)\n"
   ]
  },
  {
   "cell_type": "code",
   "execution_count": null,
   "metadata": {},
   "outputs": [],
   "source": [
    "r_co2, mrdf_co2_v2 = sms_to_mrdf(s_co2, sMs_Itot_Ibg_co2)\n",
    "\n",
    "plt.plot(r_co2,mrdf_co2_v2,color = 'navy')\n",
    "plt.axvline(1.1674, ls = '--', color = 'brown', label = '$r_{C-O}=1.1674 A^{\\circ}$')\n",
    "plt.axvline(2.3347, ls = '--', color = 'brown', label = '$r_{O-O}=2.3347 A^{\\circ}$')\n",
    "plt.xlabel('r ($A^{\\circ}$)')\n",
    "plt.ylabel('g(r)')\n",
    "plt.legend(fontsize = 'xx-small', loc=1)\n",
    "plt.savefig('epdf_co2.png', bbox_inches = 'tight')"
   ]
  },
  {
   "cell_type": "markdown",
   "metadata": {},
   "source": [
    "## Geometry file for Isolated glycerol"
   ]
  },
  {
   "cell_type": "code",
   "execution_count": null,
   "metadata": {},
   "outputs": [],
   "source": [
    "#reading the .xyz file for the corresponding molecule into a dataframe\n",
    "#BLYP/aug-cc-pVDZ\n",
    "xyz_file_path = os.getcwd()\n",
    "xyz_file_name ='Glycerol.xyz'\n",
    "xyz = pd.read_csv(os.path.join(xyz_file_path,xyz_file_name), sep = '\\s+', dtype='str',names = ['Atoms', 'x', 'y', 'z'])\n",
    "xyz.iloc[0,0]\n",
    "xyz[[\"x\", \"y\", \"z\"]] = xyz[[\"x\", \"y\", \"z\"]].apply(pd.to_numeric)\n",
    "print(len(xyz))\n",
    "print(xyz)\n",
    "find_z(xyz)\n",
    "N_atoms = len(xyz); print('Number of atoms in the molecule = {}'.format(N_atoms))\n",
    "pairs = int(N_atoms*(N_atoms-1)/2); print('Number of pairs of atomic connections in the molecule = {}'.format(pairs)); \n",
    "#r = np.zeros(pairs)"
   ]
  },
  {
   "cell_type": "markdown",
   "metadata": {},
   "source": [
    "## Simulation  of electron diffraction pattern - Glycerol"
   ]
  },
  {
   "cell_type": "code",
   "execution_count": null,
   "metadata": {},
   "outputs": [],
   "source": [
    "%%time\n",
    "#kirkland\n",
    "Iatom_kirk, Imol_kirk = scattering_int(xyz, dim = [899,899],s=s, N_atoms=len(xyz), kirkland=kirkland_scat_fact);\n",
    "\n",
    "#lobato\n",
    "#Iatom_loba, Imol_loba = scattering_int_lobato(xyz=xyz, dim = [899,899], s=s, N_atoms=14);"
   ]
  },
  {
   "cell_type": "code",
   "execution_count": null,
   "metadata": {},
   "outputs": [],
   "source": [
    "Itot_kirk = Imol_kirk + Iatom_kirk\n",
    "#Itot_loba = Imol_loba + Iatom_loba\n",
    "\n",
    "sMs_gly_kirk = np.multiply(np.divide(Itot_kirk,Iatom_kirk),s)"
   ]
  },
  {
   "cell_type": "code",
   "execution_count": null,
   "metadata": {},
   "outputs": [],
   "source": [
    "plt.figure(figsize=(10,6))\n",
    "plt.subplot(1,2,1)\n",
    "plt.imshow(Itot_kirk, cmap = 'RdBu_r' , vmin = -100, vmax = 200)\n",
    "plt.title('Itot gly')\n",
    "plt.colorbar()\n",
    "plt.subplot(1,2,2)\n",
    "plt.imshow(sMs_gly_kirk, cmap = 'RdBu_r')\n",
    "plt.title('sM(s) gly')\n",
    "plt.colorbar()\n",
    "\n",
    "Itot_kirk *= 255.0/Itot_kirk.max()\n",
    "Imol_kirk *= 255.0/Imol_kirk.max()\n",
    "Iatom_kirk *= 255.0/Iatom_kirk.max()\n",
    "\n",
    "plt.imsave(fname='Itot_gly_simulated_kirk_gas.png', arr=Itot_kirk, cmap='RdBu_r', format='png')#vmin=-100, vmax=200\n",
    "plt.imsave(fname='Iatom_gly_simulated_kirk_gas.png', arr=Iatom_kirk, cmap='RdBu_r', format='png')\n",
    "plt.imsave(fname='Imol_gly_simulated_kirk_gas.png', arr=Imol_kirk, cmap='RdBu_r', format='png')"
   ]
  },
  {
   "cell_type": "code",
   "execution_count": null,
   "metadata": {},
   "outputs": [],
   "source": [
    "s_gly_kirk,I_mol_gly_kirk_1d = diffraction_to_azimuthal_avg(Imol_kirk)\n",
    "_,I_atom_gly_kirk_1d = diffraction_to_azimuthal_avg(Iatom_kirk)\n",
    "\n",
    "sMs_Itot_Ibg_gly_kirk = np.multiply(s_gly_kirk, np.divide(I_mol_gly_kirk_1d, I_atom_gly_kirk_1d))"
   ]
  },
  {
   "cell_type": "code",
   "execution_count": null,
   "metadata": {},
   "outputs": [],
   "source": [
    "plt.figure(figsize=(15, 6))\n",
    "plt.subplot(1,2,1)\n",
    "plt.plot(s_gly_kirk, I_atom_gly_kirk_1d)\n",
    "plt.plot(s_gly_kirk, I_mol_gly_kirk_1d)\n",
    "plt.subplot(1,2,2)\n",
    "plt.plot(s_gly_kirk, sMs_Itot_Ibg_gly_kirk)\n",
    "plt.xlim([0.7,8])"
   ]
  },
  {
   "cell_type": "code",
   "execution_count": null,
   "metadata": {},
   "outputs": [],
   "source": [
    "r_gly_kirk, mrdf_gly_kirk = sms_to_mrdf(s_gly_kirk, sMs_Itot_Ibg_gly_kirk)\n",
    "\n",
    "plt.plot(r_gly_kirk,mrdf_gly_kirk,color = 'navy')\n",
    "#plt.axvline(1.108, ls = '--', color = 'brown', label = '$r_{C-O}=1.1674 A^{\\circ}$')\n",
    "plt.axvline(1.43, ls = '--', color = 'brown', label = '$r_{C-O}$')\n",
    "plt.axvline(2.47, ls = '--', color = 'brown', label = '$r_{O-O}$')\n",
    "plt.axvline(3.7, ls = '--', color = 'brown', label = '$r_{O-O}$')\n",
    "plt.xlabel('r ($A^{\\circ}$)')\n",
    "plt.ylabel('g(r)')\n",
    "plt.legend(fontsize = 'xx-small', loc=1)"
   ]
  },
  {
   "cell_type": "code",
   "execution_count": null,
   "metadata": {},
   "outputs": [],
   "source": [
    "def cut_array(sx,Itot):\n",
    "    s_cut = []\n",
    "    I_cut = []\n",
    "    for s,I in zip(sx,Itot):\n",
    "        if s>=0.6 and s<=8.0:\n",
    "            s_cut.append(s)\n",
    "            I_cut.append(I)\n",
    "        else:\n",
    "            continue\n",
    "    return s_cut, I_cut\n",
    "\n",
    "s_cut, sMs_cut = cut_array(s_gly_kirk, sMs_Itot_Ibg_gly_kirk)\n",
    "\n",
    "r_cut, mrdf_cut = sms_to_mrdf(s_cut, sMs_cut)\n",
    "\n",
    "plt.plot(r_cut, mrdf_cut,color = 'navy')\n",
    "#plt.axvline(1.108, ls = '--', color = 'brown', label = '$r_{C-O}=1.1674 A^{\\circ}$')\n",
    "plt.axvline(1.43, ls = '--', color = 'brown', label = '$r_{C-O}$')\n",
    "plt.axvline(2.5, ls = '--', color = 'brown', label = '$r_{O-O}$')\n",
    "plt.axvline(3.5, ls = '--', color = 'brown', label = '$r_{O-O}$')\n",
    "plt.xlabel('r ($A^{\\circ}$)')\n",
    "plt.ylabel('g(r)')\n",
    "plt.legend(fontsize = 'xx-small', loc=1)"
   ]
  },
  {
   "cell_type": "markdown",
   "metadata": {},
   "source": [
    "# Liquid glycerol simulation"
   ]
  },
  {
   "cell_type": "code",
   "execution_count": null,
   "metadata": {},
   "outputs": [],
   "source": [
    "#fname_liq = 'liquid_glycerol_398molecules_298k.xyz'\n",
    "fname_liq = 'liquid_glycerol_sim.xyz'\n",
    "folder_name = os.path.join(os.getcwd(),'Geometry_files')\n",
    "liq_file = os.path.join(folder_name,fname_liq)\n",
    "print(liq_file)\n",
    "xyz_liq = pd.read_csv(liq_file, sep = '\\s+', dtype='str',names = ['Atoms', 'x', 'y', 'z'])\n",
    "xyz_liq.iloc[0,0]\n",
    "xyz_liq[[\"x\", \"y\", \"z\"]] = xyz_liq[[\"x\", \"y\", \"z\"]].apply(pd.to_numeric)\n",
    "print(len(xyz_liq))\n",
    "print(xyz_liq)\n",
    "find_z(xyz_liq)\n",
    "N_atoms = len(xyz_liq); print('Number of atoms in the molecule = {}'.format(N_atoms))\n",
    "pairs = int(N_atoms*(N_atoms-1)/2); print('Number of pairs of atomic connections in the molecule = {}'.format(pairs)); "
   ]
  },
  {
   "cell_type": "code",
   "execution_count": null,
   "metadata": {},
   "outputs": [],
   "source": [
    "%%time\n",
    "#kirkland\n",
    "#Iatom_kirk_liq, Imol_kirk_liq = scattering_int(xyz_liq, dim = [899,899],s=s, N_atoms=len(xyz_liq), kirkland=kirkland_scat_fact)"
   ]
  },
  {
   "cell_type": "markdown",
   "metadata": {},
   "source": [
    "Itot_kirk_liq = Imol_kirk_liq + Iatom_kirk_liq\n",
    "#Itot_loba = Imol_loba + Iatom_loba\n",
    "\n",
    "sMs_gly_kirk_liq = np.multiply(np.divide(Itot_kirk_liq,Iatom_kirk_liq),s)\n",
    "\n",
    "plt.figure(figsize=(10,6))\n",
    "plt.subplot(1,2,1)\n",
    "plt.imshow(Itot_kirk_liq, cmap = 'gray' , vmin = 80, vmax = 5000)\n",
    "plt.title('Itot gly')\n",
    "plt.colorbar()\n",
    "plt.subplot(1,2,2)\n",
    "plt.imshow(sMs_gly_kirk_liq, cmap = 'RdBu_r')\n",
    "plt.title('sM(s) gly')\n",
    "plt.colorbar()\n",
    "\n",
    "plt.imsave(fname='Itot_gly_simulated_kirk_liq.png', arr=Itot_kirk_liq, cmap='RdBu_r', format='png',vmin=-100, vmax=200)\n",
    "plt.imsave(fname='Iatom_gly_simulated_kirk_liq.png', arr=Iatom_kirk_liq, cmap='RdBu_r', format='png',vmin=-100, vmax=200)\n",
    "plt.imsave(fname='Imol_gly_simulated_kirk_liq.png', arr=Imol_kirk_liq, cmap='RdBu_r', format='png',vmin=-100, vmax=200)"
   ]
  },
  {
   "cell_type": "markdown",
   "metadata": {},
   "source": [
    "s_gly_kirk_liq,I_mol_gly_kirk_liq_1d = diffraction_to_epdf(Imol_kirk_liq)\n",
    "_,I_atom_gly_kirk_liq_1d = diffraction_to_epdf(Iatom_kirk_liq)\n",
    "\n",
    "sMs_Itot_Ibg_gly_kirk_liq = np.multiply(s_gly_kirk_liq, np.divide(I_mol_gly_kirk_liq_1d, I_atom_gly_kirk_liq_1d))"
   ]
  },
  {
   "cell_type": "markdown",
   "metadata": {},
   "source": [
    "plt.figure(figsize=(15, 6))\n",
    "plt.subplot(1,2,1)\n",
    "plt.plot(s_gly_kirk_liq, I_atom_gly_kirk_liq_1d)\n",
    "plt.plot(s_gly_kirk_liq, I_mol_gly_kirk_liq_1d)\n",
    "plt.subplot(1,2,2)\n",
    "plt.plot(s_gly_kirk_liq, sMs_Itot_Ibg_gly_kirk_liq)\n",
    "plt.xlim([1,8])\n",
    "plt.ylim([-5,5])"
   ]
  },
  {
   "cell_type": "markdown",
   "metadata": {},
   "source": [
    "mrdf_gly_kirk_liq = sms_to_mrdf(s_gly_kirk_liq, sMs_Itot_Ibg_gly_kirk_liq)\n",
    "\n",
    "plt.plot(s_gly_kirk_liq,mrdf_gly_kirk_liq,color = 'navy')\n",
    "#plt.axvline(1.108, ls = '--', color = 'brown', label = '$r_{C-O}=1.1674 A^{\\circ}$')\n",
    "plt.axvline(1.43, ls = '--', color = 'brown', label = '$r_{C-O}$')\n",
    "plt.axvline(2.47, ls = '--', color = 'brown', label = '$r_{O-O}$')\n",
    "plt.axvline(3.7, ls = '--', color = 'brown', label = '$r_{O-O}$')\n",
    "plt.xlabel('r ($A^{\\circ}$)')\n",
    "plt.ylabel('g(r)')\n",
    "plt.legend(fontsize = 'xx-small', loc=1)\n",
    "plt.savefig('liquid_epdf_1177_atoms.png', bbox_inches='tight')"
   ]
  },
  {
   "cell_type": "code",
   "execution_count": null,
   "metadata": {},
   "outputs": [],
   "source": []
  }
 ],
 "metadata": {
  "kernelspec": {
   "display_name": "Python 3",
   "language": "python",
   "name": "python3"
  },
  "language_info": {
   "codemirror_mode": {
    "name": "ipython",
    "version": 3
   },
   "file_extension": ".py",
   "mimetype": "text/x-python",
   "name": "python",
   "nbconvert_exporter": "python",
   "pygments_lexer": "ipython3",
   "version": "3.8.5"
  }
 },
 "nbformat": 4,
 "nbformat_minor": 4
}
