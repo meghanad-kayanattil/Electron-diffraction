{
 "cells": [
  {
   "cell_type": "code",
   "execution_count": 4,
   "id": "e3294256",
   "metadata": {},
   "outputs": [],
   "source": [
    "import matlab.engine\n",
    "eng = matlab.engine.start_matlab()\n",
    "import matplotlib.pyplot as plt\n",
    "import os\n",
    "import cv2\n",
    "import math as mt\n",
    "import numpy as np"
   ]
  },
  {
   "cell_type": "code",
   "execution_count": 5,
   "id": "995972a9",
   "metadata": {},
   "outputs": [],
   "source": [
    "#path to the diffraction images collected in pump and probe fashion\n",
    "\n",
    "main_path = r'D:\\PhD Experimental data\\Electron diffraction\\Main ones\\2020-02-18_PIRL\\Diffraction_y5p0_z87p0\\delay_4us'\n",
    "folder_name = 'Backup for img#{}'\n",
    "file_name_probe = 'frame {x} for img#{y} 2020-2-18 11x0.5sec Probe 15000{z:02}fs.spe'\n",
    "file_name_pp = 'frame {x} for img#{y} 2020-2-18 11x0.5sec Pump+Probe 15000{z:02}fs.spe'"
   ]
  },
  {
   "cell_type": "code",
   "execution_count": null,
   "id": "17c2537a",
   "metadata": {},
   "outputs": [
    {
     "name": "stdout",
     "output_type": "stream",
     "text": [
      "Reading from folder 1\n",
      "D:\\PhD Experimental data\\Electron diffraction\\Main ones\\2020-02-18_PIRL\\Diffraction_y5p0_z87p0\\delay_4us\\Backup for img#1\n",
      "D:\\PhD Experimental data\\Electron diffraction\\Main ones\\2020-02-18_PIRL\\Diffraction_y5p0_z87p0\\delay_4us\\Backup for img#1\\frame 1 for img#1 2020-2-18 11x0.5sec Probe 1500000fs.spe\n",
      "D:\\PhD Experimental data\\Electron diffraction\\Main ones\\2020-02-18_PIRL\\Diffraction_y5p0_z87p0\\delay_4us\\Backup for img#1\\frame 1 for img#1 2020-2-18 11x0.5sec Pump+Probe 1500000fs.spe\n",
      "D:\\PhD Experimental data\\Electron diffraction\\Main ones\\2020-02-18_PIRL\\Diffraction_y5p0_z87p0\\delay_4us\\Backup for img#1\\frame 2 for img#1 2020-2-18 11x0.5sec Probe 1500000fs.spe\n",
      "D:\\PhD Experimental data\\Electron diffraction\\Main ones\\2020-02-18_PIRL\\Diffraction_y5p0_z87p0\\delay_4us\\Backup for img#1\\frame 2 for img#1 2020-2-18 11x0.5sec Pump+Probe 1500000fs.spe\n",
      "D:\\PhD Experimental data\\Electron diffraction\\Main ones\\2020-02-18_PIRL\\Diffraction_y5p0_z87p0\\delay_4us\\Backup for img#1\\frame 3 for img#1 2020-2-18 11x0.5sec Probe 1500000fs.spe\n",
      "D:\\PhD Experimental data\\Electron diffraction\\Main ones\\2020-02-18_PIRL\\Diffraction_y5p0_z87p0\\delay_4us\\Backup for img#1\\frame 3 for img#1 2020-2-18 11x0.5sec Pump+Probe 1500000fs.spe\n"
     ]
    }
   ],
   "source": [
    "#reading the .spe files corresponding to pump and probe data and storing it as multidimensional array \n",
    "probe_data_tmp = []\n",
    "pp_data_tmp = []\n",
    "k=0\n",
    "for i in range(1,6):\n",
    "    folder_path = os.path.join(main_path,folder_name.format(i))\n",
    "    \n",
    "    print('Reading from folder {}'.format(i))\n",
    "    print(folder_path)\n",
    "    \n",
    "    for j in range(1,6):\n",
    "        #reading images\n",
    "        probe_file = os.path.join(folder_path,file_name_probe.format(x=j,y=i,z=k))\n",
    "        print(probe_file)\n",
    "        pp_file = os.path.join(folder_path,file_name_pp.format(x=j,y=i,z=k))\n",
    "        print(pp_file)\n",
    "        #storing the images as numpy arrays \n",
    "        probe_data_tmp.append(np.array(eng.ReadsspeIndividual(probe_file),dtype=np.uint16))\n",
    "        pp_data_tmp.append(np.array(eng.ReadsspeIndividual(pp_file),dtype=np.uint16))\n",
    "    k=k+1"
   ]
  },
  {
   "cell_type": "code",
   "execution_count": null,
   "id": "1106bc52",
   "metadata": {},
   "outputs": [],
   "source": [
    "np.shape(probe_data_tmp)"
   ]
  },
  {
   "cell_type": "code",
   "execution_count": null,
   "id": "73e021be",
   "metadata": {},
   "outputs": [],
   "source": [
    "#Clean the data\n",
    "#in each backup folders there are 5 shots which needs to be averaged and the arked files needs to be removed\n",
    "median_pp =[]\n",
    "median_probe=[]\n",
    "mean_pp = []\n",
    "mean_probe = []\n",
    "for i in range(24):\n",
    "    median_pp.append(np.median(pp_data_tmp[i]))\n",
    "    median_probe.append(np.median(probe_data_tmp[i]))\n",
    "    mean_pp.append(np.mean(pp_data_tmp[i]))\n",
    "    mean_probe.append(np.mean(probe_data_tmp[i]))\n",
    "print(\"Pump+probe meadian\")\n",
    "print(median_pp)\n",
    "print('Probe median')\n",
    "print(median_probe)\n",
    "print(\"Pump+probe mean\")\n",
    "print(mean_pp)\n",
    "print('Probe mean')\n",
    "print(mean_probe)"
   ]
  },
  {
   "cell_type": "code",
   "execution_count": null,
   "id": "4c126e51",
   "metadata": {},
   "outputs": [],
   "source": [
    "std_pp = np.std(median_pp)\n",
    "avg_pp = np.average(median_pp)\n",
    "std_prob = np.std(median_probe)\n",
    "avg_prob = np.average(median_probe)\n",
    "\n",
    "print('Average pump+probe pixel intensity = {}'.format(avg_pp))"
   ]
  },
  {
   "cell_type": "code",
   "execution_count": null,
   "id": "69f66140",
   "metadata": {},
   "outputs": [],
   "source": [
    "i=0\n",
    "deleted_file_pp = []\n",
    "deleted_file_prob = []\n",
    "\n",
    "while i<len(pp_data_tmp):\n",
    "    if np.median(pp_data_tmp[i]) > avg_pp+std_pp:\n",
    "        deleted_file_pp.append(pp_data_tmp[i])\n",
    "        pp_data_tmp.pop(i)\n",
    "        #probe_data_tmp.pop(i)\n",
    "    i=i+1\n",
    "\n",
    "j=0\n",
    "i=0\n",
    "while j<len(probe_data_tmp):\n",
    "    if np.median(probe_data_tmp[i]) > avg_pp+std_pp:\n",
    "        deleted_file_prob.append(probe_data_tmp[i])\n",
    "        probe_data_tmp.pop(i)\n",
    "        #pp_data_tmp.pop(i)\n",
    "    j=j+1"
   ]
  },
  {
   "cell_type": "code",
   "execution_count": null,
   "id": "b3a69c3e",
   "metadata": {},
   "outputs": [],
   "source": [
    "print('deleted pp file #{}'.format(len(deleted_file_pp)))\n",
    "print('deleted probe file #{}'.format(len(deleted_file_prob)))\n",
    "np.shape(deleted_file_pp)\n",
    "plt.imshow(deleted_file_pp[4])\n",
    "plt.colorbar()"
   ]
  },
  {
   "cell_type": "code",
   "execution_count": null,
   "id": "bcf7dd46",
   "metadata": {},
   "outputs": [],
   "source": [
    "background_file = r'D:\\PhD Experimental data\\Electron diffraction\\Main ones\\2020-02-18_PIRL\\BG\\img#1 2020-2-18 11x0.5sec.spe'\n",
    "bg = np.array(eng.ReadsspeIndividual(background_file),dtype=np.uint16)\n",
    "plt.imshow(bg)"
   ]
  },
  {
   "cell_type": "code",
   "execution_count": null,
   "id": "aef62a78",
   "metadata": {},
   "outputs": [],
   "source": [
    "pp_probe = []\n",
    "\n",
    "sum_pp = np.zeros([900,900])\n",
    "for i in range(len(pp_data_tmp)):\n",
    "    sum_pp = sum_pp+pp_data_tmp[i]\n",
    "    \n",
    "avg_pp_img = sum_pp/len(pp_data_tmp)\n",
    "\n",
    "sum_probe = np.zeros([900,900])\n",
    "for i in range(len(probe_data_tmp)):\n",
    "    sum_probe = sum_probe+probe_data_tmp[i]\n",
    "    \n",
    "avg_pp_img = sum_pp/len(pp_data_tmp)\n",
    "avg_probe_img = sum_probe/len(probe_data_tmp)\n",
    "\n",
    "avg_pp_probe = avg_pp_img-avg_probe_img\n",
    "avg_bg = np.subtract(avg_pp_probe, bg) \n",
    "\n",
    "plt.imshow(avg_bg, cmap = 'gray_r', vmin = -6000, vmax = 100)\n",
    "plt.colorbar()"
   ]
  },
  {
   "cell_type": "code",
   "execution_count": null,
   "id": "b345ab71",
   "metadata": {},
   "outputs": [],
   "source": [
    "for i in range(len(pp_data_tmp)):\n",
    "    pp_probe.append(abs(pp_data_tmp[i])-abs(probe_data_tmp[i]))\n",
    "[l,x,y] = np.shape(pp_probe)\n",
    "summ = np.zeros([x,y])\n",
    "for i in pp_probe:\n",
    "    summ = summ+i\n",
    "avg = summ/len(pp_probe)\n",
    "final = avg #np.subtract(bg, avg)\n",
    "new_folder = r'D:\\PhD Experimental data\\Electron diffraction\\Analysis\\18-02-2020'\n",
    "file_name = '2020-02-18_306mW_4us.png'\n",
    "path_new = os.path.join(new_folder,file_name)\n",
    "\n",
    "\n",
    "my_dpi = 96\n",
    "plt.figure(figsize=(900/my_dpi, 900/my_dpi), dpi=my_dpi)\n",
    "plt.imshow(final,cmap = 'gray')\n",
    "plt.colorbar()\n",
    "#plt.imsave(fname = path_new,arr=final, cmap='gray', format='png')"
   ]
  },
  {
   "cell_type": "code",
   "execution_count": null,
   "id": "e7b03ba0",
   "metadata": {},
   "outputs": [],
   "source": [
    "def rmatrix(xcen = 391.55, ycen = 393.03, size = 900):\n",
    "    \n",
    "    x = np.arange(1,size+1)\n",
    "    y = np.arange(1,size+1)\n",
    "    [xx,yy] = np.meshgrid(x,y)\n",
    "\n",
    "    #Calculates the distance of each px to the center of the image in meters and in s units.\n",
    "    d = []\n",
    "\n",
    "    for x,y in zip(xx,yy):\n",
    "        temp_holder = ((x-xcen)**2)+((y-ycen)**2)\n",
    "\n",
    "        d.append(np.sqrt(temp_holder))\n",
    "    d = np.array(d)\n",
    "    return d\n",
    "\n",
    "rmat = rmatrix()\n",
    "rmat.shape"
   ]
  },
  {
   "cell_type": "code",
   "execution_count": null,
   "id": "eed08eec",
   "metadata": {},
   "outputs": [],
   "source": [
    "from sklearn import preprocessing\n",
    "shape = final.shape\n",
    "\n",
    "image_scaled = final*rmat\n",
    "\n",
    "#image_scaled = preprocessing.minmax_scale(final.ravel(), feature_range=(-100,4e3)).reshape(shape)\n",
    "\n",
    "\n",
    "plt.imshow(image_scaled, cmap = 'gray', vmin=-100, vmax = 4000)\n",
    "plt.colorbar()"
   ]
  },
  {
   "cell_type": "code",
   "execution_count": null,
   "id": "7a7b12dc",
   "metadata": {},
   "outputs": [],
   "source": []
  }
 ],
 "metadata": {
  "kernelspec": {
   "display_name": "Python 3",
   "language": "python",
   "name": "python3"
  },
  "language_info": {
   "codemirror_mode": {
    "name": "ipython",
    "version": 3
   },
   "file_extension": ".py",
   "mimetype": "text/x-python",
   "name": "python",
   "nbconvert_exporter": "python",
   "pygments_lexer": "ipython3",
   "version": "3.6.13"
  }
 },
 "nbformat": 4,
 "nbformat_minor": 5
}
