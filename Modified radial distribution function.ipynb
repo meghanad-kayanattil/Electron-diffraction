{
 "cells": [
  {
   "cell_type": "code",
   "execution_count": 3,
   "id": "92085053",
   "metadata": {},
   "outputs": [],
   "source": [
    "import os\n",
    "import matplotlib.pyplot as plt\n",
    "import pandas as pd\n",
    "import math\n",
    "import numpy as np"
   ]
  },
  {
   "cell_type": "code",
   "execution_count": 5,
   "id": "32d678d2",
   "metadata": {},
   "outputs": [
    {
     "data": {
      "text/html": [
       "<div>\n",
       "<style scoped>\n",
       "    .dataframe tbody tr th:only-of-type {\n",
       "        vertical-align: middle;\n",
       "    }\n",
       "\n",
       "    .dataframe tbody tr th {\n",
       "        vertical-align: top;\n",
       "    }\n",
       "\n",
       "    .dataframe thead th {\n",
       "        text-align: right;\n",
       "    }\n",
       "</style>\n",
       "<table border=\"1\" class=\"dataframe\">\n",
       "  <thead>\n",
       "    <tr style=\"text-align: right;\">\n",
       "      <th></th>\n",
       "      <th>S(A^-1)</th>\n",
       "      <th>sM(s)</th>\n",
       "    </tr>\n",
       "  </thead>\n",
       "  <tbody>\n",
       "    <tr>\n",
       "      <th>0</th>\n",
       "      <td>0.020142</td>\n",
       "      <td>252.006622</td>\n",
       "    </tr>\n",
       "    <tr>\n",
       "      <th>1</th>\n",
       "      <td>0.060427</td>\n",
       "      <td>245.186386</td>\n",
       "    </tr>\n",
       "    <tr>\n",
       "      <th>2</th>\n",
       "      <td>0.100712</td>\n",
       "      <td>238.519073</td>\n",
       "    </tr>\n",
       "    <tr>\n",
       "      <th>3</th>\n",
       "      <td>0.140997</td>\n",
       "      <td>232.034821</td>\n",
       "    </tr>\n",
       "    <tr>\n",
       "      <th>4</th>\n",
       "      <td>0.181282</td>\n",
       "      <td>225.763748</td>\n",
       "    </tr>\n",
       "    <tr>\n",
       "      <th>...</th>\n",
       "      <td>...</td>\n",
       "      <td>...</td>\n",
       "    </tr>\n",
       "    <tr>\n",
       "      <th>195</th>\n",
       "      <td>7.875704</td>\n",
       "      <td>5.202905</td>\n",
       "    </tr>\n",
       "    <tr>\n",
       "      <th>196</th>\n",
       "      <td>7.915989</td>\n",
       "      <td>3.974158</td>\n",
       "    </tr>\n",
       "    <tr>\n",
       "      <th>197</th>\n",
       "      <td>7.956274</td>\n",
       "      <td>2.719069</td>\n",
       "    </tr>\n",
       "    <tr>\n",
       "      <th>198</th>\n",
       "      <td>7.996559</td>\n",
       "      <td>1.432609</td>\n",
       "    </tr>\n",
       "    <tr>\n",
       "      <th>199</th>\n",
       "      <td>8.036844</td>\n",
       "      <td>0.109744</td>\n",
       "    </tr>\n",
       "  </tbody>\n",
       "</table>\n",
       "<p>200 rows × 2 columns</p>\n",
       "</div>"
      ],
      "text/plain": [
       "      S(A^-1)       sM(s)\n",
       "0    0.020142  252.006622\n",
       "1    0.060427  245.186386\n",
       "2    0.100712  238.519073\n",
       "3    0.140997  232.034821\n",
       "4    0.181282  225.763748\n",
       "..        ...         ...\n",
       "195  7.875704    5.202905\n",
       "196  7.915989    3.974158\n",
       "197  7.956274    2.719069\n",
       "198  7.996559    1.432609\n",
       "199  8.036844    0.109744\n",
       "\n",
       "[200 rows x 2 columns]"
      ]
     },
     "execution_count": 5,
     "metadata": {},
     "output_type": "execute_result"
    }
   ],
   "source": [
    "file = 'sM(s)_vs_s.txt'\n",
    "folder = os.getcwd()\n",
    "df = pd.read_csv(os.path.join(folder, file), sep = '\\s+')\n",
    "df"
   ]
  },
  {
   "cell_type": "code",
   "execution_count": 12,
   "id": "f2d0e77c",
   "metadata": {},
   "outputs": [
    {
     "data": {
      "text/plain": [
       "[<matplotlib.lines.Line2D at 0x141ffda43c8>]"
      ]
     },
     "execution_count": 12,
     "metadata": {},
     "output_type": "execute_result"
    },
    {
     "data": {
      "image/png": "[encoded data removed]",
      "text/plain": [
       "<Figure size 432x288 with 1 Axes>"
      ]
     },
     "metadata": {
      "needs_background": "light"
     },
     "output_type": "display_data"
    }
   ],
   "source": [
    "s = df['S(A^-1)'].to_numpy()\n",
    "sMs = df['sM(s)'].to_numpy()\n",
    "sMs2 = np.multiply(sMs,s**2)\n",
    "plt.plot(s, sMs2)\n",
    "plt.plot(s,sMs)"
   ]
  },
  {
   "cell_type": "code",
   "execution_count": 7,
   "id": "75e2aff9",
   "metadata": {},
   "outputs": [],
   "source": [
    "def function_inside(s,sMs,r):\n",
    "    k = 0.02\n",
    "    s2 = np.multiply(s,s)\n",
    "    sinfun = np.sin(np.multiply(s,r))\n",
    "    expfun = np.exp(np.multiply(-k,s2))\n",
    "    out = sMs*np.multiply(sinfun,expfun)\n",
    "    return out"
   ]
  },
  {
   "cell_type": "code",
   "execution_count": 9,
   "id": "75d55a61",
   "metadata": {},
   "outputs": [],
   "source": [
    "from sklearn import metrics\n",
    "\n",
    "r = np.linspace(0,8, 100)\n",
    "mrdf = []\n",
    "\n",
    "\n",
    "for ri in r:\n",
    "    y = function_inside(s, sMs, ri)\n",
    "    area = metrics.auc(s,y)\n",
    "    mrdf.append(area)"
   ]
  },
  {
   "cell_type": "code",
   "execution_count": 10,
   "id": "6f4eb029",
   "metadata": {},
   "outputs": [
    {
     "data": {
      "text/plain": [
       "[<matplotlib.lines.Line2D at 0x141ffd20c18>]"
      ]
     },
     "execution_count": 10,
     "metadata": {},
     "output_type": "execute_result"
    },
    {
     "data": {
      "image/png": "[encoded data removed]",
      "text/plain": [
       "<Figure size 432x288 with 1 Axes>"
      ]
     },
     "metadata": {
      "needs_background": "light"
     },
     "output_type": "display_data"
    }
   ],
   "source": [
    "plt.plot(r, mrdf)"
   ]
  },
  {
   "cell_type": "code",
   "execution_count": null,
   "id": "96e14c0b",
   "metadata": {},
   "outputs": [],
   "source": []
  }
 ],
 "metadata": {
  "kernelspec": {
   "display_name": "Python 3",
   "language": "python",
   "name": "python3"
  },
  "language_info": {
   "codemirror_mode": {
    "name": "ipython",
    "version": 3
   },
   "file_extension": ".py",
   "mimetype": "text/x-python",
   "name": "python",
   "nbconvert_exporter": "python",
   "pygments_lexer": "ipython3",
   "version": "3.6.13"
  }
 },
 "nbformat": 4,
 "nbformat_minor": 5
}
