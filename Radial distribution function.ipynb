{
 "cells": [
  {
   "cell_type": "code",
   "execution_count": null,
   "metadata": {},
   "outputs": [],
   "source": []
  },
  {
   "cell_type": "code",
   "execution_count": null,
   "metadata": {},
   "outputs": [],
   "source": []
  },
  {
   "cell_type": "code",
   "execution_count": null,
   "metadata": {},
   "outputs": [],
   "source": [
    "def f_x_lobato(s,zi):\n",
    "    \"Scattering factor calculation Lobato method\"\n",
    "    \n",
    "    a,b = lobato_scat(zi)\n",
    "    \n",
    "    q = np.divide(s,math.pi*2)\n",
    "    \n",
    "    q_sq = np.multiply(q,q)\n",
    "    \n",
    "    f=0\n",
    "    for i in range(5):\n",
    "        f = f + (a[i]*(2+b[i]*q_sq))/(1+b[i]*q_sq)**2\n",
    "    \n",
    "    return f\n",
    "\n",
    "def scattering_int_lobato(xyz,dim,N_atoms,s):\n",
    "    \"\"\"\n",
    "    Calculates the scattering intensity\n",
    "    Input parameters: xyz = geometry data\n",
    "                      dim = detector size in pixels \n",
    "                      N_atoms = Number of atoms in the molecule\n",
    "                      s = scattering vector calculated in the main program body\n",
    "    output: Iat = Atomic scattering intensity\n",
    "            Imol = Molecular scattering intensity\n",
    "    \n",
    "    \"\"\"\n",
    "    IAt = np.zeros(dim)\n",
    "    Imol = np.zeros(dim)\n",
    "\n",
    "    pi = 0\n",
    "    Z = find_z(xyz)\n",
    " \n",
    "    for i in range(N_atoms):\n",
    "        for j in range(i+1):\n",
    "            zi = Z[i]\n",
    "            zj = Z[j]\n",
    "            print('Zi = {}, Zj = {}'.format(zi,zj))\n",
    "            \n",
    "            #fi,fj are the elastic scattering amplitude of atoms\n",
    "            fi = f_x_lobato(s,zi)\n",
    "            fj = f_x_lobato(s,zj)\n",
    "            \n",
    "            if (i == j):\n",
    "                IAt = IAt + np.multiply(fi,fj)\n",
    "                print('rij = 0')\n",
    "                \n",
    "            else:\n",
    "                #We can divide the Imol(s) into 3 parts, first the scatering factor\n",
    "                #second the cos (phase) factor and 3rd the sin factor\n",
    "                \n",
    "                #scat factor calculation\n",
    "                scat_fact = np.multiply(fi,fj)\n",
    "                \n",
    "                #sin factor calculation \n",
    "                r1 = xyz.iloc[i,1]-xyz.iloc[j,1]\n",
    "                r2 = xyz.iloc[i,2]-xyz.iloc[j,2]\n",
    "                r3 = xyz.iloc[i,3]-xyz.iloc[j,3]\n",
    "                r_squared = r1**2+r2**2+r3**2\n",
    "                rij = math.sqrt(r_squared);print('rij = {}'.format(rij))\n",
    "                sin_fact = np.divide(np.sin(np.multiply(rij,s)),np.multiply(rij,s))            \n",
    "                \n",
    "                #cos_factor calculation \n",
    "                \n",
    "                #total\n",
    "                Imol = Imol + np.multiply(scat_fact,sin_fact)\n",
    "            pi=pi+1        \n",
    "            print('Pairs = {}'.format(pi))\n",
    "    return IAt, Imol               "
   ]
  },
  {
   "cell_type": "code",
   "execution_count": null,
   "metadata": {},
   "outputs": [],
   "source": []
  },
  {
   "cell_type": "code",
   "execution_count": null,
   "metadata": {},
   "outputs": [],
   "source": []
  },
  {
   "cell_type": "code",
   "execution_count": null,
   "metadata": {},
   "outputs": [],
   "source": []
  }
 ],
 "metadata": {
  "kernelspec": {
   "display_name": "Python 3",
   "language": "python",
   "name": "python3"
  },
  "language_info": {
   "codemirror_mode": {
    "name": "ipython",
    "version": 3
   },
   "file_extension": ".py",
   "mimetype": "text/x-python",
   "name": "python",
   "nbconvert_exporter": "python",
   "pygments_lexer": "ipython3",
   "version": "3.8.5"
  }
 },
 "nbformat": 4,
 "nbformat_minor": 4
}
